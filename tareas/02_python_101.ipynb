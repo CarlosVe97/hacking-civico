{
  "nbformat": 4,
  "nbformat_minor": 0,
  "metadata": {
    "colab": {
      "name": "02-python-101.ipynb",
      "provenance": [],
      "authorship_tag": "ABX9TyO1kVUcSAF1h3dWViJbm8I3",
      "include_colab_link": true
    },
    "kernelspec": {
      "name": "python3",
      "display_name": "Python 3"
    }
  },
  "cells": [
    {
      "cell_type": "markdown",
      "metadata": {
        "id": "view-in-github",
        "colab_type": "text"
      },
      "source": [
        "<a href=\"https://colab.research.google.com/github/CarlosVe97/hacking-civico/blob/master/tareas/02_python_101.ipynb\" target=\"_parent\"><img src=\"https://colab.research.google.com/assets/colab-badge.svg\" alt=\"Open In Colab\"/></a>"
      ]
    },
    {
      "cell_type": "code",
      "metadata": {
        "id": "nCuDbtld5-sn",
        "colab_type": "code",
        "colab": {
          "base_uri": "https://localhost:8080/",
          "height": 68
        },
        "outputId": "2ae4ea8c-aead-4959-d503-9f64f82339d5"
      },
      "source": [
        "#Para calcular densidad poblacional\n",
        "def densidad_poblacional(poblacion, area_ciudad):\n",
        "  resultado = poblacion/area_ciudad\n",
        "  return resultado\n",
        "\n",
        "#Obregon\n",
        "print(densidad_poblacional(433050,3312 ))\n",
        "#Sonora\n",
        "print(densidad_poblacional(2850000,179355 ))\n",
        "#Mexico\n",
        "print(densidad_poblacional(126200000 ,1959248  ))\n"
      ],
      "execution_count": 1,
      "outputs": [
        {
          "output_type": "stream",
          "text": [
            "130.7518115942029\n",
            "15.890273479969892\n",
            "64.41246845728566\n"
          ],
          "name": "stdout"
        }
      ]
    },
    {
      "cell_type": "code",
      "metadata": {
        "id": "ukVvNSkHBuu0",
        "colab_type": "code",
        "colab": {
          "base_uri": "https://localhost:8080/",
          "height": 68
        },
        "outputId": "72b265ee-1c1c-4033-ab7e-ae132f52062b"
      },
      "source": [
        "# Gasto per capita\n",
        "\n",
        "gasto_aprobado_2018 = 12916200000\n",
        "gasto_aprobado_2019 = 12394100000\n",
        "poblacion_mexico_2018 = 124740000 \n",
        "poblacion_mexico_2019 = 125930000\n",
        "                    \n",
        "def calculador_gasto_per_capita(gasto_aprobado,poblacion):\n",
        "  gasto_per_capita = gasto_aprobado / poblacion\n",
        "  return gasto_per_capita\n",
        "\n",
        "gasto_per_capita_2018 = calculador_gasto_per_capita(gasto_aprobado_2018,poblacion_mexico_2018)\n",
        "gasto_per_capita_2019 = calculador_gasto_per_capita(gasto_aprobado_2019,poblacion_mexico_2019)\n",
        "\n",
        "print(f\"En 2018 se tuvo un gasto per capita en el sector cultural de {gasto_per_capita_2018} pesos\")\n",
        "print(f\"En 2019 se tuvo un gasto per capita en el sector cultural de {gasto_per_capita_2019} pesos\")\n",
        "\n",
        "diferencia = (gasto_per_capita_2019 * 100) / gasto_per_capita_2018\n",
        "porcentaje_de_diferencia = diferencia - 100\n",
        "\n",
        "if gasto_per_capita_2019 > gasto_per_capita_2018:\n",
        " print(f\"El gasto per capita aumento un {abs(porcentaje_de_diferencia)} %\")\n",
        "else:\n",
        " print(f\"El gasto per capita disminuyo un {abs(porcentaje_de_diferencia)} %\") "
      ],
      "execution_count": null,
      "outputs": [
        {
          "output_type": "stream",
          "text": [
            "En 2018 se tuvo un gasto per capita en el sector cultural de 103.54497354497354 pesos\n",
            "En 2019 se tuvo un gasto per capita en el sector cultural de 98.42055109981736 pesos\n",
            "El gasto per capita disminuyo un 4.94898233078446 %\n"
          ],
          "name": "stdout"
        }
      ]
    }
  ]
}